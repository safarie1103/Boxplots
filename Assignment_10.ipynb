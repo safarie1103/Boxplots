{
  "nbformat": 4,
  "nbformat_minor": 0,
  "metadata": {
    "colab": {
      "provenance": [],
      "authorship_tag": "ABX9TyMr+BMGXxZJjRkan9lS59CI",
      "include_colab_link": true
    },
    "kernelspec": {
      "name": "python3",
      "display_name": "Python 3"
    },
    "language_info": {
      "name": "python"
    }
  },
  "cells": [
    {
      "cell_type": "markdown",
      "metadata": {
        "id": "view-in-github",
        "colab_type": "text"
      },
      "source": [
        "<a href=\"https://colab.research.google.com/github/safarie1103/Boxplots/blob/master/Assignment_10.ipynb\" target=\"_parent\"><img src=\"https://colab.research.google.com/assets/colab-badge.svg\" alt=\"Open In Colab\"/></a>"
      ]
    },
    {
      "cell_type": "code",
      "execution_count": 6,
      "metadata": {
        "id": "UCWbj32n6Myu"
      },
      "outputs": [],
      "source": [
        "from nltk.tokenize import RegexpTokenizer\n",
        "\n"
      ]
    },
    {
      "cell_type": "code",
      "source": [
        "def tokenize(sentence):\n",
        "    tokens = []\n",
        "    # tokenize the sentence\n",
        "    tokenizer = RegexpTokenizer(r'\\w+')\n",
        "    tokens = tokenizer.tokenize(sentence)\n",
        "    return tokens"
      ],
      "metadata": {
        "id": "--Mm50y-7ZuV"
      },
      "execution_count": 2,
      "outputs": []
    },
    {
      "cell_type": "code",
      "source": [
        "tokenize('What did she say? I wanted ice cream, but got a slushi instead!')"
      ],
      "metadata": {
        "colab": {
          "base_uri": "https://localhost:8080/"
        },
        "id": "Rd0jcWQm9NAX",
        "outputId": "075eb904-469c-4bae-e160-e9c2686c8156"
      },
      "execution_count": 5,
      "outputs": [
        {
          "output_type": "execute_result",
          "data": {
            "text/plain": [
              "['What',\n",
              " 'did',\n",
              " 'she',\n",
              " 'say',\n",
              " 'I',\n",
              " 'wanted',\n",
              " 'ice',\n",
              " 'cream',\n",
              " 'but',\n",
              " 'got',\n",
              " 'a',\n",
              " 'slushi',\n",
              " 'instead']"
            ]
          },
          "metadata": {},
          "execution_count": 5
        }
      ]
    },
    {
      "cell_type": "code",
      "source": [
        "import nltk\n",
        "from nltk.util import ngrams\n",
        " \n",
        "def ngrams(tokens, n):\n",
        "  for idx in range(len(tokens)-n+1):\n",
        "        yield tuple(tokens[idx:idx+n])\n",
        "\n"
      ],
      "metadata": {
        "id": "qPJGQxW2_LQ3"
      },
      "execution_count": 30,
      "outputs": []
    },
    {
      "cell_type": "code",
      "source": [
        "tokens = tokenize('What did she say? I wanted ice cream, but got a slushi instead!')\n",
        "for ngram in ngrams(tokens,n=4):\n",
        "  print(ngram)"
      ],
      "metadata": {
        "colab": {
          "base_uri": "https://localhost:8080/"
        },
        "id": "NIZ4LLs2D3kf",
        "outputId": "72e39752-e997-4f42-9fd0-288c7dc4c719"
      },
      "execution_count": 34,
      "outputs": [
        {
          "output_type": "stream",
          "name": "stdout",
          "text": [
            "('What', 'did', 'she', 'say')\n",
            "('did', 'she', 'say', 'I')\n",
            "('she', 'say', 'I', 'wanted')\n",
            "('say', 'I', 'wanted', 'ice')\n",
            "('I', 'wanted', 'ice', 'cream')\n",
            "('wanted', 'ice', 'cream', 'but')\n",
            "('ice', 'cream', 'but', 'got')\n",
            "('cream', 'but', 'got', 'a')\n",
            "('but', 'got', 'a', 'slushi')\n",
            "('got', 'a', 'slushi', 'instead')\n"
          ]
        }
      ]
    },
    {
      "cell_type": "code",
      "source": [
        "from sklearn.preprocessing import LabelBinarizer, MultiLabelBinarizer\n",
        "\n",
        "\n",
        "one_hot = LabelBinarizer()\n",
        "\n",
        "one_hot.fit_transform(tokens)\n"
      ],
      "metadata": {
        "colab": {
          "base_uri": "https://localhost:8080/"
        },
        "id": "GyvaU10nGJjo",
        "outputId": "a5b481f9-b148-490d-f840-a32d5eb2d392"
      },
      "execution_count": 36,
      "outputs": [
        {
          "output_type": "execute_result",
          "data": {
            "text/plain": [
              "array([[0, 1, 0, 0, 0, 0, 0, 0, 0, 0, 0, 0, 0],\n",
              "       [0, 0, 0, 0, 0, 1, 0, 0, 0, 0, 0, 0, 0],\n",
              "       [0, 0, 0, 0, 0, 0, 0, 0, 0, 0, 1, 0, 0],\n",
              "       [0, 0, 0, 0, 0, 0, 0, 0, 0, 1, 0, 0, 0],\n",
              "       [1, 0, 0, 0, 0, 0, 0, 0, 0, 0, 0, 0, 0],\n",
              "       [0, 0, 0, 0, 0, 0, 0, 0, 0, 0, 0, 0, 1],\n",
              "       [0, 0, 0, 0, 0, 0, 0, 1, 0, 0, 0, 0, 0],\n",
              "       [0, 0, 0, 0, 1, 0, 0, 0, 0, 0, 0, 0, 0],\n",
              "       [0, 0, 0, 1, 0, 0, 0, 0, 0, 0, 0, 0, 0],\n",
              "       [0, 0, 0, 0, 0, 0, 1, 0, 0, 0, 0, 0, 0],\n",
              "       [0, 0, 1, 0, 0, 0, 0, 0, 0, 0, 0, 0, 0],\n",
              "       [0, 0, 0, 0, 0, 0, 0, 0, 0, 0, 0, 1, 0],\n",
              "       [0, 0, 0, 0, 0, 0, 0, 0, 1, 0, 0, 0, 0]])"
            ]
          },
          "metadata": {},
          "execution_count": 36
        }
      ]
    },
    {
      "cell_type": "code",
      "source": [
        "one_hot.classes_"
      ],
      "metadata": {
        "id": "OEbWO9WKJKR0",
        "outputId": "5070942d-02ae-46f4-a9a3-80b645acc8fb",
        "colab": {
          "base_uri": "https://localhost:8080/"
        }
      },
      "execution_count": 37,
      "outputs": [
        {
          "output_type": "execute_result",
          "data": {
            "text/plain": [
              "array(['I', 'What', 'a', 'but', 'cream', 'did', 'got', 'ice', 'instead',\n",
              "       'say', 'she', 'slushi', 'wanted'], dtype='<U7')"
            ]
          },
          "metadata": {},
          "execution_count": 37
        }
      ]
    }
  ]
}